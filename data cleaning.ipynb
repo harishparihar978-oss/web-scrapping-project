{
 "cells": [
  {
   "cell_type": "code",
   "execution_count": 7,
   "id": "d6ca0069-d55b-48a4-bb27-2fecb94d2b0b",
   "metadata": {},
   "outputs": [
    {
     "name": "stdout",
     "output_type": "stream",
     "text": [
      "Shape before cleaning: (1000, 9)\n",
      "<class 'pandas.core.frame.DataFrame'>\n",
      "RangeIndex: 1000 entries, 0 to 999\n",
      "Data columns (total 9 columns):\n",
      " #   Column              Non-Null Count  Dtype  \n",
      "---  ------              --------------  -----  \n",
      " 0   title               1000 non-null   object \n",
      " 1   author_names        1000 non-null   object \n",
      " 2   first_publish_year  992 non-null    float64\n",
      " 3   edition_count       1000 non-null   int64  \n",
      " 4   cover_id            370 non-null    float64\n",
      " 5   key                 1000 non-null   object \n",
      " 6   isbn                1000 non-null   object \n",
      " 7   subject             1000 non-null   object \n",
      " 8   cover_path          370 non-null    object \n",
      "dtypes: float64(2), int64(1), object(6)\n",
      "memory usage: 70.4+ KB\n"
     ]
    },
    {
     "data": {
      "text/html": [
       "<div>\n",
       "<style scoped>\n",
       "    .dataframe tbody tr th:only-of-type {\n",
       "        vertical-align: middle;\n",
       "    }\n",
       "\n",
       "    .dataframe tbody tr th {\n",
       "        vertical-align: top;\n",
       "    }\n",
       "\n",
       "    .dataframe thead th {\n",
       "        text-align: right;\n",
       "    }\n",
       "</style>\n",
       "<table border=\"1\" class=\"dataframe\">\n",
       "  <thead>\n",
       "    <tr style=\"text-align: right;\">\n",
       "      <th></th>\n",
       "      <th>title</th>\n",
       "      <th>author_names</th>\n",
       "      <th>first_publish_year</th>\n",
       "      <th>edition_count</th>\n",
       "      <th>cover_id</th>\n",
       "      <th>key</th>\n",
       "      <th>isbn</th>\n",
       "      <th>subject</th>\n",
       "      <th>cover_path</th>\n",
       "    </tr>\n",
       "  </thead>\n",
       "  <tbody>\n",
       "    <tr>\n",
       "      <th>0</th>\n",
       "      <td>Artificial intelligence</td>\n",
       "      <td>['Stuart J. Russell', 'Peter Norvig']</td>\n",
       "      <td>1994.0</td>\n",
       "      <td>39</td>\n",
       "      <td>92018.0</td>\n",
       "      <td>/works/OL2896994W</td>\n",
       "      <td>[]</td>\n",
       "      <td>[]</td>\n",
       "      <td>ol_data\\images\\works_OL2896994W-M.jpg</td>\n",
       "    </tr>\n",
       "    <tr>\n",
       "      <th>1</th>\n",
       "      <td>Artificial intelligence</td>\n",
       "      <td>['Patrick Henry Winston']</td>\n",
       "      <td>1977.0</td>\n",
       "      <td>7</td>\n",
       "      <td>135105.0</td>\n",
       "      <td>/works/OL2024373W</td>\n",
       "      <td>[]</td>\n",
       "      <td>[]</td>\n",
       "      <td>ol_data\\images\\works_OL2024373W-M.jpg</td>\n",
       "    </tr>\n",
       "    <tr>\n",
       "      <th>2</th>\n",
       "      <td>Artificial intelligence</td>\n",
       "      <td>['Elaine A. Rich']</td>\n",
       "      <td>1983.0</td>\n",
       "      <td>3</td>\n",
       "      <td>55159.0</td>\n",
       "      <td>/works/OL4453349W</td>\n",
       "      <td>[]</td>\n",
       "      <td>[]</td>\n",
       "      <td>ol_data\\images\\works_OL4453349W-M.jpg</td>\n",
       "    </tr>\n",
       "    <tr>\n",
       "      <th>3</th>\n",
       "      <td>Artificial Intelligence and Intelligent Systems</td>\n",
       "      <td>['N. P. Padhy']</td>\n",
       "      <td>2005.0</td>\n",
       "      <td>1</td>\n",
       "      <td>128294.0</td>\n",
       "      <td>/works/OL5878924W</td>\n",
       "      <td>[]</td>\n",
       "      <td>[]</td>\n",
       "      <td>ol_data\\images\\works_OL5878924W-M.jpg</td>\n",
       "    </tr>\n",
       "    <tr>\n",
       "      <th>4</th>\n",
       "      <td>Artificial Intelligence and Soft Computing</td>\n",
       "      <td>['Leszek Rutkowski']</td>\n",
       "      <td>2012.0</td>\n",
       "      <td>34</td>\n",
       "      <td>8619487.0</td>\n",
       "      <td>/works/OL19827983W</td>\n",
       "      <td>[]</td>\n",
       "      <td>[]</td>\n",
       "      <td>ol_data\\images\\works_OL19827983W-M.jpg</td>\n",
       "    </tr>\n",
       "  </tbody>\n",
       "</table>\n",
       "</div>"
      ],
      "text/plain": [
       "                                             title  \\\n",
       "0                          Artificial intelligence   \n",
       "1                          Artificial intelligence   \n",
       "2                          Artificial intelligence   \n",
       "3  Artificial Intelligence and Intelligent Systems   \n",
       "4       Artificial Intelligence and Soft Computing   \n",
       "\n",
       "                            author_names  first_publish_year  edition_count  \\\n",
       "0  ['Stuart J. Russell', 'Peter Norvig']              1994.0             39   \n",
       "1              ['Patrick Henry Winston']              1977.0              7   \n",
       "2                     ['Elaine A. Rich']              1983.0              3   \n",
       "3                        ['N. P. Padhy']              2005.0              1   \n",
       "4                   ['Leszek Rutkowski']              2012.0             34   \n",
       "\n",
       "    cover_id                 key isbn subject  \\\n",
       "0    92018.0   /works/OL2896994W   []      []   \n",
       "1   135105.0   /works/OL2024373W   []      []   \n",
       "2    55159.0   /works/OL4453349W   []      []   \n",
       "3   128294.0   /works/OL5878924W   []      []   \n",
       "4  8619487.0  /works/OL19827983W   []      []   \n",
       "\n",
       "                               cover_path  \n",
       "0   ol_data\\images\\works_OL2896994W-M.jpg  \n",
       "1   ol_data\\images\\works_OL2024373W-M.jpg  \n",
       "2   ol_data\\images\\works_OL4453349W-M.jpg  \n",
       "3   ol_data\\images\\works_OL5878924W-M.jpg  \n",
       "4  ol_data\\images\\works_OL19827983W-M.jpg  "
      ]
     },
     "execution_count": 7,
     "metadata": {},
     "output_type": "execute_result"
    }
   ],
   "source": [
    "import pandas as pd\n",
    "\n",
    "file_path = \"books.csv\"\n",
    "df = pd.read_csv(file_path)\n",
    "\n",
    "print(\"Shape before cleaning:\", df.shape)\n",
    "df.info()\n",
    "df.head()\n"
   ]
  },
  {
   "cell_type": "code",
   "execution_count": 18,
   "id": "61db0266-b881-4f9d-94ee-3e8272b7d00e",
   "metadata": {},
   "outputs": [
    {
     "name": "stdout",
     "output_type": "stream",
     "text": [
      "Missing values handled successfully.\n"
     ]
    },
    {
     "name": "stderr",
     "output_type": "stream",
     "text": [
      "C:\\Users\\parih\\AppData\\Local\\Temp\\ipykernel_10980\\3698185757.py:6: FutureWarning: A value is trying to be set on a copy of a DataFrame or Series through chained assignment using an inplace method.\n",
      "The behavior will change in pandas 3.0. This inplace method will never work because the intermediate object on which we are setting values always behaves as a copy.\n",
      "\n",
      "For example, when doing 'df[col].method(value, inplace=True)', try using 'df.method({col: value}, inplace=True)' or df[col] = df[col].method(value) instead, to perform the operation inplace on the original object.\n",
      "\n",
      "\n",
      "  df[col].fillna(df[col].mode()[0], inplace=True)\n",
      "C:\\Users\\parih\\AppData\\Local\\Temp\\ipykernel_10980\\3698185757.py:8: FutureWarning: A value is trying to be set on a copy of a DataFrame or Series through chained assignment using an inplace method.\n",
      "The behavior will change in pandas 3.0. This inplace method will never work because the intermediate object on which we are setting values always behaves as a copy.\n",
      "\n",
      "For example, when doing 'df[col].method(value, inplace=True)', try using 'df.method({col: value}, inplace=True)' or df[col] = df[col].method(value) instead, to perform the operation inplace on the original object.\n",
      "\n",
      "\n",
      "  df[col].fillna(df[col].median(), inplace=True)\n"
     ]
    }
   ],
   "source": [
    "threshold = len(df) * 0.5\n",
    "df = df.dropna(thresh=threshold, axis=1)\n",
    "\n",
    "for col in df.columns:\n",
    "    if df[col].dtype == 'object':\n",
    "        df[col].fillna(df[col].mode()[0], inplace=True)\n",
    "    else:\n",
    "        df[col].fillna(df[col].median(), inplace=True)\n",
    "\n",
    "print(\"Missing values handled successfully.\")\n"
   ]
  },
  {
   "cell_type": "code",
   "execution_count": 20,
   "id": "9c6ca47a-3789-4d8b-85b4-c534b5adebd0",
   "metadata": {},
   "outputs": [
    {
     "name": "stdout",
     "output_type": "stream",
     "text": [
      "Duplicates removed.\n"
     ]
    }
   ],
   "source": [
    "df.drop_duplicates(inplace=True)\n",
    "print(\"Duplicates removed.\")\n"
   ]
  },
  {
   "cell_type": "code",
   "execution_count": 22,
   "id": "f8d6df45-6c8b-4b22-b29d-ca23d5beee44",
   "metadata": {},
   "outputs": [
    {
     "name": "stderr",
     "output_type": "stream",
     "text": [
      "C:\\Users\\parih\\AppData\\Local\\Temp\\ipykernel_10980\\280364139.py:6: FutureWarning: DataFrame.applymap has been deprecated. Use DataFrame.map instead.\n",
      "  df = df.applymap(clean_text)\n"
     ]
    },
    {
     "name": "stdout",
     "output_type": "stream",
     "text": [
      "Text columns cleaned.\n"
     ]
    }
   ],
   "source": [
    "def clean_text(x):\n",
    "    if isinstance(x, str):\n",
    "        return \" \".join(x.strip().split())\n",
    "    return x\n",
    "\n",
    "df = df.applymap(clean_text)\n",
    "print(\"Text columns cleaned.\")\n"
   ]
  },
  {
   "cell_type": "code",
   "execution_count": 24,
   "id": "54620d4c-724a-4d8b-97d2-be3f54930ab7",
   "metadata": {},
   "outputs": [
    {
     "name": "stdout",
     "output_type": "stream",
     "text": [
      "Data types adjusted.\n"
     ]
    }
   ],
   "source": [
    "for col in df.select_dtypes(include=['object']).columns:\n",
    "    try:\n",
    "        df[col] = df[col].astype(float)\n",
    "    except:\n",
    "        pass\n",
    "\n",
    "print(\"Data types adjusted.\")\n"
   ]
  },
  {
   "cell_type": "code",
   "execution_count": 26,
   "id": "4d5d771c-3c91-4ad2-bba4-6b7a784e130d",
   "metadata": {},
   "outputs": [
    {
     "name": "stdout",
     "output_type": "stream",
     "text": [
      "✅ Data Cleaning Complete!\n",
      "Shape after cleaning: (1000, 7)\n",
      "Saved cleaned dataset as: cleaned_data.csv\n"
     ]
    }
   ],
   "source": [
    "cleaned_path = \"cleaned_data.csv\"\n",
    "df.to_csv(cleaned_path, index=False)\n",
    "\n",
    "print(\"✅ Data Cleaning Complete!\")\n",
    "print(\"Shape after cleaning:\", df.shape)\n",
    "print(\"Saved cleaned dataset as:\", cleaned_path)\n"
   ]
  },
  {
   "cell_type": "code",
   "execution_count": null,
   "id": "8715654e-c023-45c5-b9c0-8ab827ab630b",
   "metadata": {},
   "outputs": [],
   "source": []
  }
 ],
 "metadata": {
  "kernelspec": {
   "display_name": "Python 3 (ipykernel)",
   "language": "python",
   "name": "python3"
  },
  "language_info": {
   "codemirror_mode": {
    "name": "ipython",
    "version": 3
   },
   "file_extension": ".py",
   "mimetype": "text/x-python",
   "name": "python",
   "nbconvert_exporter": "python",
   "pygments_lexer": "ipython3",
   "version": "3.12.4"
  }
 },
 "nbformat": 4,
 "nbformat_minor": 5
}
